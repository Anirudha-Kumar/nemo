{
 "cells": [
  {
   "cell_type": "markdown",
   "id": "7b9e217c-0e77-4416-9c55-73c5988a4548",
   "metadata": {},
   "source": [
    "# REBOUND and NEMO\n",
    "\n",
    "Here we compare a short leapfrog integration on 100 stars with different integrators.  First ensure NEMO is present with the **nemo** command\n",
    "\n",
    "If not, you'll need to enable it in this shell with\n",
    "\n",
    "      source nemo_start.sh\n",
    "\n",
    "in the directory where NEMO was installed. \n",
    "\n",
    "If you started this notebook in a shell where NEMO was present, you should not need to re-enable it. NEMO should be present.\n"
   ]
  },
  {
   "cell_type": "code",
   "execution_count": 1,
   "id": "45cb5253-a594-4a06-8886-df8c4b56b66f",
   "metadata": {},
   "outputs": [
    {
     "name": "stdout",
     "output_type": "stream",
     "text": [
      "NEMO:        /home/teuben/NEMO/nemo  - Version:4.4.2\n",
      "git:         Branch:master     Counter:11651      Date: 2024/01/20_09:57:25\n",
      "python:      /home/teuben/anaconda3/bin/python  - Python 3.10.9\n",
      "OS_release:  Linux Description:\tUbuntu 22.04.3 LTS\n"
     ]
    }
   ],
   "source": [
    "nemo"
   ]
  },
  {
   "cell_type": "markdown",
   "id": "c9f94556-063d-418d-8f3b-96b69999dd7e",
   "metadata": {},
   "source": [
    "If REBOUND and the associated NEMO tools are not installed, install them with **mknemo rebound** :"
   ]
  },
  {
   "cell_type": "code",
   "execution_count": 2,
   "id": "6dfd889d-f73d-4495-824b-d97262f5c545",
   "metadata": {},
   "outputs": [],
   "source": [
    "# mknemo rebound"
   ]
  },
  {
   "cell_type": "markdown",
   "id": "0e38403d-f33a-423a-b931-bbdd39280c4e",
   "metadata": {},
   "source": [
    "We test this with the **reb_integrate** command:"
   ]
  },
  {
   "cell_type": "code",
   "execution_count": 3,
   "id": "8da51c8c-4a19-4b76-a670-25408a026266",
   "metadata": {},
   "outputs": [
    {
     "name": "stdout",
     "output_type": "stream",
     "text": [
      "in               : input snapshot [???]\n",
      "out              : output snapshot [???]\n",
      "tstop            : Set, or let go forever [10]\n",
      "dtout            : Optional interval to save simulation [1]\n",
      "dt               : Integration Step [0.01]\n",
      "eps              : Gravitational Softening Length [0.01]\n",
      "integrator       : rebound integrator [leapfrog]\n",
      "gravity          : none, basic, compensated or tree [basic]\n",
      "tolerance        : tree opening angle - in radians? [0.25]\n",
      "box              : Optional Simulation Box size - in terms or r0 []\n",
      "G                : Gravitational Constant [1]\n",
      "server           : Use web based server on this port (if > 0) [-1]\n",
      "VERSION          : 17-jan-2024 PJT [0.3]\n"
     ]
    }
   ],
   "source": [
    "reb_integrate help=h\n"
   ]
  },
  {
   "cell_type": "markdown",
   "id": "8529e5ed-5cb6-4da2-bc00-7c489afe6144",
   "metadata": {},
   "source": [
    "## Integrating \n",
    "\n",
    "We will integrate 100 particles, initialized with **mkplummer**, with a  direct N-body integrator. The **directcode** and **hackcode1** are two NEMO integrators that use a leapfrog integrator that can do this. They should also agree, and we will compare it with **reb_integrate**, the REBOUND integrator compiled with NEMO.\n",
    "\n",
    "We will take 8 steps with or without dumping every step. Pick to use n=1 output, or n=8 outputs, to check if this is a Heisenbug (it isn't, they both gave the same result)"
   ]
  },
  {
   "cell_type": "code",
   "execution_count": 4,
   "id": "976a1c28-08d8-4187-a336-d1b1583da06a",
   "metadata": {},
   "outputs": [],
   "source": [
    "n=1"
   ]
  },
  {
   "cell_type": "code",
   "execution_count": 5,
   "id": "281f72fd-7242-4796-84f1-ca89dd579cc0",
   "metadata": {},
   "outputs": [],
   "source": [
    "n=8"
   ]
  },
  {
   "cell_type": "markdown",
   "id": "fda524e4-773d-48cd-bcf0-a50580098fc4",
   "metadata": {},
   "source": [
    "We compare the two integrators\n",
    "* directcode:      NEMO's N^2 integrator\n",
    "* hackcode1:       NEMO's tree code, but with tol=0 it will become an N^2 integrator\n",
    "* reb_integrate:   REBOUND\n",
    "\n",
    "after this use the **snapcmp** program to see how they diverge"
   ]
  },
  {
   "cell_type": "code",
   "execution_count": 6,
   "id": "3a867513-04d6-4b27-90a3-9f30c7895c3d",
   "metadata": {},
   "outputs": [
    {
     "name": "stdout",
     "output_type": "stream",
     "text": [
      "### nemo Debug Info: Read snapshot N=100 at t=0\n",
      "### nemo Debug Info: Integrator:     4\n",
      "### nemo Debug Info: Gravity Solver: 1\n",
      "N_tot=  100       t=  0.000000  dt=  0.125000  cpu=  0.000000 [s]  \n",
      "### nemo Debug Info: SimulationArchive `p100.d` with 9 snapshots\n",
      "\n",
      "\u001b[1mWarning!\u001b[0m You have to reset function pointers after creating a reb_simulation struct with a binary file.\n",
      "### nemo Debug Info: Snapshot 0 at time 0 with nbody 100\n",
      "\n",
      "\u001b[1mWarning!\u001b[0m You have to reset function pointers after creating a reb_simulation struct with a binary file.\n",
      "### nemo Debug Info: Snapshot 1 at time 0.125 with nbody 100\n",
      "\n",
      "\u001b[1mWarning!\u001b[0m You have to reset function pointers after creating a reb_simulation struct with a binary file.\n",
      "### nemo Debug Info: Snapshot 2 at time 0.25 with nbody 100\n",
      "\n",
      "\u001b[1mWarning!\u001b[0m You have to reset function pointers after creating a reb_simulation struct with a binary file.\n",
      "### nemo Debug Info: Snapshot 3 at time 0.375 with nbody 100\n",
      "\n",
      "\u001b[1mWarning!\u001b[0m You have to reset function pointers after creating a reb_simulation struct with a binary file.\n",
      "### nemo Debug Info: Snapshot 4 at time 0.5 with nbody 100\n",
      "\n",
      "\u001b[1mWarning!\u001b[0m You have to reset function pointers after creating a reb_simulation struct with a binary file.\n",
      "### nemo Debug Info: Snapshot 5 at time 0.625 with nbody 100\n",
      "\n",
      "\u001b[1mWarning!\u001b[0m You have to reset function pointers after creating a reb_simulation struct with a binary file.\n",
      "### nemo Debug Info: Snapshot 6 at time 0.75 with nbody 100\n",
      "\n",
      "\u001b[1mWarning!\u001b[0m You have to reset function pointers after creating a reb_simulation struct with a binary file.\n",
      "### nemo Debug Info: Snapshot 7 at time 0.875 with nbody 100\n",
      "\n",
      "\u001b[1mWarning!\u001b[0m You have to reset function pointers after creating a reb_simulation struct with a binary file.\n",
      "### nemo Debug Info: Snapshot 8 at time 1 with nbody 100\n",
      "# time  Min  Qlow Median Qhigh  Max   Mean Sigma\n",
      "# obs=r (log scaling)\n",
      "0   -99.99 -99.99 -99.99 -99.99 -99.99  -99.99 -99.99\n",
      "0.125   -6.67895 -3.91858 -3.30423 -2.89773 -2.28491  -3.00837 -2.91399\n",
      "0.25   -6.37759 -3.64444 -3.07298 -2.65468 -2.03674  -2.73855 -2.64192\n",
      "0.375   -6.20132 -3.48239 -2.98144 -2.43526 -1.76439  -2.54557 -2.41131\n",
      "0.5   -6.07644 -3.38349 -2.83475 -2.19831 -1.46753  -2.31657 -2.15229\n",
      "0.625   -5.97978 -3.23866 -2.70402 -1.94514 -1.21948  -2.11321 -1.92876\n",
      "0.75   -5.90047 -3.14369 -2.5926 -1.81701 -1.05285  -1.96677 -1.78001\n",
      "0.875   -5.83235 -2.98096 -2.50866 -1.64321 -0.926817  -1.84469 -1.65769\n",
      "1   -5.77147 -2.91269 -2.38552 -1.54901 -0.824887  -1.74717 -1.56875\n",
      "# time  Min  Qlow Median Qhigh  Max   Mean Sigma\n",
      "# obs=r (log scaling)\n",
      "0   -99.99 -99.99 -99.99 -99.99 -99.99  -99.99 -99.99\n",
      "0.125   -99.99 -99.99 -99.99 -99.99 -15.9546  -17.2976 -16.7776\n",
      "0.25   -99.99 -99.99 -99.99 -16.8577 -15.6525  -16.9094 -16.5243\n",
      "0.375   -99.99 -99.99 -99.99 -16.5566 -15.6525  -16.6454 -16.4137\n",
      "0.5   -99.99 -99.99 -16.8577 -16.2556 -15.6404  -16.4854 -16.3327\n",
      "0.625   -99.99 -99.99 -16.5281 -16.1051 -15.6051  -16.3032 -16.2457\n",
      "0.75   -99.99 -99.99 -16.2556 -15.9546 -15.6051  -16.1871 -16.1804\n",
      "0.875   -99.99 -99.99 -16.2072 -15.9061 -15.5863  -16.087 -16.1154\n",
      "1   -99.99 -16.7072 -16.0795 -15.7636 -15.4546  -15.9867 -16.0423\n"
     ]
    }
   ],
   "source": [
    "rm -f p100.*\n",
    "mkplummer p100.a 100 seed=123\n",
    "directcode p100.a p100.b tstop=1 freq=8 freqout=$n eps=0.05 > p100.b.log\n",
    "s2reb p100.a p100.c\n",
    "reb_integrate p100.c p100.d tstop=1 dt=1/8 dtout=1/$n eps=0.05\n",
    "reb2s p100.d p100.e\n",
    "snapcmp p100.b p100.e log=t\n",
    "\n",
    "hackcode1 p100.a p100.f tstop=1 freq=8 freqout=$n eps=0.05 tol=0 > p100.f.log\n",
    "snapcmp p100.b p100.f log=t\n"
   ]
  },
  {
   "cell_type": "markdown",
   "id": "4d5a91cb-8290-4ec2-aad3-c2435331daba",
   "metadata": {},
   "source": [
    "The first set of comparisons have a slow divergent drift (note a logarithmic scale), but the directcode and hackcode1 compare well on the machine level (16 digits) as one would expect\n",
    "\n",
    "## Plotting\n",
    "\n",
    "Plotting in a bash kernel with NEMO is a bit hard, there is to my knowledge no embedded plotting possible. Instead we use the yapp_pgplot interface and save output as a PNG file, and load this in the next markdown cell. So first we plot the initial conditions, and then compare visually the NEMO and REBOUND results at t=1"
   ]
  },
  {
   "cell_type": "code",
   "execution_count": 7,
   "id": "75bf3f99-a6d3-48ce-99f7-31ead47a1a40",
   "metadata": {},
   "outputs": [],
   "source": [
    "snapplot p100.a psize=0.1 yapp=p100.a.png/png\n",
    "snapplot p100.b psize=0.1 yapp=p100.b.png/png times=1.0\n",
    "snapplot p100.e psize=0.1 yapp=p100.e.png/png times=1.0"
   ]
  },
  {
   "cell_type": "markdown",
   "id": "49aa598a-8667-4a8a-b347-92e3eb6674d1",
   "metadata": {},
   "source": [
    "## Initial conditions\n",
    "![initial](p100.a.png)\n",
    "\n",
    "## directcode at t=1.0\n",
    "![directcode t=1](p100.b.png)\n",
    "\n",
    "## reb_integrate at t=1.0\n",
    "![reb_integrate t=1](p100.e.png)\n",
    "\n"
   ]
  },
  {
   "cell_type": "code",
   "execution_count": null,
   "id": "1bd57dda-934e-4db1-b4ce-df36ca892104",
   "metadata": {},
   "outputs": [],
   "source": []
  }
 ],
 "metadata": {
  "kernelspec": {
   "display_name": "Bash",
   "language": "bash",
   "name": "bash"
  },
  "language_info": {
   "codemirror_mode": "shell",
   "file_extension": ".sh",
   "mimetype": "text/x-sh",
   "name": "bash"
  }
 },
 "nbformat": 4,
 "nbformat_minor": 5
}
