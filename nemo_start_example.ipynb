{
 "cells": [
  {
   "cell_type": "markdown",
   "metadata": {},
   "source": [
    "# Running NEMO in a jupyter notebook\n",
    "\n",
    "This notebook will help you getting started with [NEMO](https://teuben.github.io/nemo/) in a jupyter notebook!\n",
    "\n",
    "NEMO is a package that consists of [a set of \n",
    "compiled executables](https://teuben.github.io/nemo/man_html/index1.html) that run in a Unix environment. Normally you would issue commands in a terminal (shell), or via a script. Parameters are passed to the programs, and data are stored in files or passed via unix pipes.\n",
    "But since NEMO version 4.1.2 there is some better support to use NEMO commands in a jupyter notebook.    There are a few ways to use these into a notebook, with currently a few limitations. Here we are exploring some, but watch out for future changes. For now we are also limited to Python.\n",
    "\n",
    "When NEMO was installed, the file **nemo_start.py** was also created. This file will need to be locally present, so we can import it, or copied into your python's sys.path, or your site-packages. This is the best way to make sure to inherit the environment in a portable way.\n",
    "\n",
    "Here is our currently suggested way to set up your python shell for NEMO, one simple **import**:"
   ]
  },
  {
   "cell_type": "code",
   "execution_count": 1,
   "metadata": {},
   "outputs": [
    {
     "name": "stdout",
     "output_type": "stream",
     "text": [
      "Loading NEMO=/home/teuben/NEMO/nemo  VERSION 4.1.2\n"
     ]
    }
   ],
   "source": [
    "import nemo_start"
   ]
  },
  {
   "cell_type": "markdown",
   "metadata": {},
   "source": [
    "Then we add a few common imports, for plotting in this case."
   ]
  },
  {
   "cell_type": "code",
   "execution_count": 2,
   "metadata": {},
   "outputs": [],
   "source": [
    "import numpy as np\n",
    "%matplotlib inline\n",
    "import matplotlib.pyplot as plt"
   ]
  },
  {
   "cell_type": "markdown",
   "metadata": {},
   "source": [
    "There are several ways to run NEMO commands. We take an example of creating a plummer sphere with 10 particles and a known seed so we always know the answer. We then look at the phase space coordinated of these 10 bodies. We need two programs:  **mkplummer** and **snapprint**   (for the old timers:   **snapplot** does not work in notebooks since it creates a PNG, PS or X-display)\n",
    "\n",
    "So, first lets look at the keywords that these programs have:"
   ]
  },
  {
   "cell_type": "code",
   "execution_count": 3,
   "metadata": {},
   "outputs": [
    {
     "name": "stdout",
     "output_type": "stream",
     "text": [
      "out              : Output file name [???]\r\n",
      "nbody            : Number of particles [???]\r\n",
      "mlow             : Low mass fraction cutoff of Plummer dist [0]\r\n",
      "mfrac            : Mass fraction used of Plummer distribution [0.999]\r\n",
      "rfrac            : Radius fraction used of Plummer distribution\r\n",
      "                              NOTE: the above two values are chosen so\r\n",
      "                                    that m( rfrac ) = mfrac                 [22.8042468]\r\n",
      "seed             : Seed for the random number generator [0]\r\n",
      "time             : Time at which snapshot is taken [0.0]\r\n",
      "zerocm           : Centrate snapshot (t/f)? [t]\r\n",
      "scale            : Model scale factor (-1=virial 1=natural) [-1]\r\n",
      "quiet            : 0=noisy 1=somewhat quiet 2=more quiet [0]\r\n",
      "massname         : If used Mass-function name (e.g. n(m)) []\r\n",
      "massexpr         : Mass function expression (e.g. pow(m,p)) [pow(m,p)]\r\n",
      "masspars         : Mass function parameters (e.g. p,0.0) [p,0.0]\r\n",
      "massrange        : Range for mass-spectrum (e.g. 1,2) [1,1]\r\n",
      "headline         : Verbiage for output []\r\n",
      "nmodel           : number of models to produce [1]\r\n",
      "mode             : 0=no data,  1=data, no analysis 2=data, analysis [1]\r\n",
      "VERSION          : 5-nov-2018 PJT [3.0]\r\n"
     ]
    }
   ],
   "source": [
    "!mkplummer help=h"
   ]
  },
  {
   "cell_type": "code",
   "execution_count": 4,
   "metadata": {},
   "outputs": [
    {
     "name": "stdout",
     "output_type": "stream",
     "text": [
      "in               : Input file (snapshot) [???]\r\n",
      "options          : Things to output [x,y,z,vx,vy,vz]\r\n",
      "format           : Format used to output numbers [%g]\r\n",
      "separ            : Special table of interparticle distances [0]\r\n",
      "times            : Times to select snapshot [all]\r\n",
      "tab              : Standard output or table file? []\r\n",
      "header           : Add header (nbody,time)to output? [f]\r\n",
      "newline          : add newline in the header? [f]\r\n",
      "csv              : Use Comma Separated Values format [f]\r\n",
      "comment          : Add table columns as common, instead of debug [f]\r\n",
      "VERSION          : 24-feb-04 PJT [2.4]\r\n"
     ]
    }
   ],
   "source": [
    "!snapprint help=h"
   ]
  },
  {
   "cell_type": "markdown",
   "metadata": {},
   "source": [
    "So, we have used the  **!** escape character to escape from python and issue a shell command directly.   Now we will use a pipe to take the output of mkplummer and pipe it into snapprint, which redirects the output table into a file, which we'll read with numpy a little later:"
   ]
  },
  {
   "cell_type": "code",
   "execution_count": 5,
   "metadata": {
    "scrolled": false
   },
   "outputs": [
    {
     "name": "stdout",
     "output_type": "stream",
     "text": [
      "### nemo Debug Info: done.\n",
      "### nemo Debug Info: x y z vx vy vz \n",
      "(10, 6)\n",
      "[[-0.609486  -0.221687  -0.450963  -0.0766784 -0.209397   0.396561 ]\n",
      " [ 4.80925   -0.486182  -1.52575    0.418474   0.117766   0.230193 ]\n",
      " [ 0.545314   0.0795464  0.0632245  0.0867019 -0.109128  -0.282036 ]\n",
      " [ 0.377209  -0.213318  -0.011833  -0.739982   0.649302  -0.0595349]\n",
      " [-0.0724005  0.706104   0.0899005  0.158021   0.0702185  0.316083 ]\n",
      " [-0.561212  -0.32416    1.18761    0.379356   0.257397   0.0247723]\n",
      " [-0.312291  -0.902718  -0.451821   0.669557  -0.463708  -0.117066 ]\n",
      " [ 0.36967    0.154617   0.681866  -0.0283658 -0.0937881 -0.135925 ]\n",
      " [ 0.106249   0.255479  -0.0102538 -0.757828   0.0154417 -0.328447 ]\n",
      " [-4.6523     0.95232    0.428016  -0.109256  -0.234103  -0.0446015]]\n"
     ]
    }
   ],
   "source": [
    "!mkplummer - 10 seed=123 | snapprint - > p10.tab\n",
    "(x,y,z,vx,vy,vz) = np.loadtxt('p10.tab').T\n",
    "tab = np.loadtxt('p10.tab')\n",
    "print(tab.shape)\n",
    "print(tab)\n"
   ]
  },
  {
   "cell_type": "markdown",
   "metadata": {},
   "source": [
    "So you see the **help=h** keyword gives you some help, though there are also online manpages with far more background information. See for example \n",
    "https://teuben.github.io/nemo/man_html/mkplummer.1.html for  the **mkplummer** program.\n",
    "\n",
    "\n",
    "Apart from that NEMO programs use **keyword=value**, instead of **--keyword value** to pass parameters into the program, there is another feature about files in NEMO.   The stdin on one end of the pipe can be connected to the stdout of the other side of the pipe.\n",
    "\n",
    "The example here could have equally well have been run with\n",
    "\n",
    "        mkplummer p10 10 seed=123\n",
    "        snapprint p10 > p10.tab\n",
    "        \n",
    "Now that we have the phase space coordinates in (x,y,z,vx,vy,vz), we can make some interesting plots:"
   ]
  },
  {
   "cell_type": "code",
   "execution_count": 6,
   "metadata": {},
   "outputs": [
    {
     "data": {
      "text/plain": [
       "Text(0.5, 1.0, 'just a Plummer')"
      ]
     },
     "execution_count": 6,
     "metadata": {},
     "output_type": "execute_result"
    },
    {
     "data": {
      "image/png": "[encoded data removed]",
      "text/plain": [
       "<Figure size 360x360 with 1 Axes>"
      ]
     },
     "metadata": {
      "needs_background": "light"
     },
     "output_type": "display_data"
    }
   ],
   "source": [
    "plt.figure(figsize=(5,5))\n",
    "plt.scatter(x,y)\n",
    "plt.xlim(-5,5)\n",
    "plt.ylim(-5,5)\n",
    "plt.title(\"just a Plummer\")"
   ]
  },
  {
   "cell_type": "markdown",
   "metadata": {},
   "source": [
    "One can also open a **bash** shell in a cell, but remember each cell is essentially a new shell."
   ]
  },
  {
   "cell_type": "code",
   "execution_count": 7,
   "metadata": {},
   "outputs": [
    {
     "name": "stdout",
     "output_type": "stream",
     "text": [
      "-0.609486 -0.221687 -0.450963 -0.0766784 -0.209397 0.396561 \n",
      "4.80925 -0.486182 -1.52575 0.418474 0.117766 0.230193 \n",
      "0.545314 0.0795464 0.0632245 0.0867019 -0.109128 -0.282036 \n",
      "0.377209 -0.213318 -0.011833 -0.739982 0.649302 -0.0595349 \n",
      "-0.0724005 0.706104 0.0899005 0.158021 0.0702185 0.316083 \n",
      "-0.561212 -0.32416 1.18761 0.379356 0.257397 0.0247723 \n",
      "-0.312291 -0.902718 -0.451821 0.669557 -0.463708 -0.117066 \n",
      "0.36967 0.154617 0.681866 -0.0283658 -0.0937881 -0.135925 \n",
      "0.106249 0.255479 -0.0102538 -0.757828 0.0154417 -0.328447 \n",
      "-4.6523 0.95232 0.428016 -0.109256 -0.234103 -0.0446015 \n"
     ]
    },
    {
     "name": "stderr",
     "output_type": "stream",
     "text": [
      "### nemo Debug Info: x y z vx vy vz \n",
      "### nemo Debug Info: done.\n"
     ]
    }
   ],
   "source": [
    "%%bash\n",
    "mkplummer - 10  seed=123 | snapprint -"
   ]
  },
  {
   "cell_type": "markdown",
   "metadata": {},
   "source": [
    "here is yet another way, but the stdout/stderr will go to the original terminal from which jupyter was started. You may never see this, if you never saw this terminal (think remote users like on SciServer)"
   ]
  },
  {
   "cell_type": "code",
   "execution_count": 8,
   "metadata": {},
   "outputs": [
    {
     "data": {
      "text/plain": [
       "0"
      ]
     },
     "execution_count": 8,
     "metadata": {},
     "output_type": "execute_result"
    }
   ],
   "source": [
    "cmd = 'mkplummer - 10 seed=123 | snapprint -'\n",
    "os.system(cmd)"
   ]
  }
 ],
 "metadata": {
  "kernelspec": {
   "display_name": "Python 3",
   "language": "python",
   "name": "python3"
  },
  "language_info": {
   "codemirror_mode": {
    "name": "ipython",
    "version": 3
   },
   "file_extension": ".py",
   "mimetype": "text/x-python",
   "name": "python",
   "nbconvert_exporter": "python",
   "pygments_lexer": "ipython3",
   "version": "3.7.0"
  }
 },
 "nbformat": 4,
 "nbformat_minor": 2
}
